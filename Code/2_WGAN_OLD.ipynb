{
 "cells": [
  {
   "cell_type": "code",
   "execution_count": 1,
   "metadata": {},
   "outputs": [],
   "source": [
    "import torch\n",
    "import argparse\n",
    "import math\n",
    "import torch.nn as nn \n",
    "from torch.nn.functional import leaky_relu, softmax\n",
    "from sklearn.model_selection import train_test_split\n",
    "from torch.utils.data import DataLoader\n",
    "from collections import Counter\n",
    "\n",
    "from GANutils import *\n",
    "from utils import *\n",
    "import pandas as pd\n",
    "import numpy as np\n",
    "import matplotlib.pyplot as plt\n",
    "\n",
    "from IPython.display import clear_output"
   ]
  },
  {
   "cell_type": "code",
   "execution_count": 2,
   "metadata": {},
   "outputs": [],
   "source": [
    "cuda = torch.cuda.is_available()\n",
    "device = torch.device(\"cuda:0\" if cuda else \"cpu\")"
   ]
  },
  {
   "cell_type": "code",
   "execution_count": 3,
   "metadata": {},
   "outputs": [],
   "source": [
    "data = pd.read_pickle('Data/TU_onehot')"
   ]
  },
  {
   "cell_type": "code",
   "execution_count": 4,
   "metadata": {},
   "outputs": [],
   "source": [
    "cat = Counter([v.split('_')[0] for v in list(data.columns)])\n",
    "cat_total = sum(cat.values())\n",
    "cat_n = list(cat.values())\n",
    "INPUT_SIZE = 500"
   ]
  },
  {
   "cell_type": "code",
   "execution_count": 80,
   "metadata": {},
   "outputs": [],
   "source": [
    "def gen_noise(size:int, batch_size:int):\n",
    "    '''\n",
    "    Generates a 1-d vector of gaussian sampled random values\n",
    "    '''\n",
    "    n = Variable(torch.randn([batch_size,size]), requires_grad=False)\n",
    "    return n\n",
    "\n",
    "\n",
    "\n",
    "def softmax2onehot(x):\n",
    "    x=x.to(device)\n",
    "    max_idx = torch.argmax(x, 1, keepdim=True).to(device)\n",
    "    one_hot = torch.FloatTensor(x.shape).to(device)\n",
    "    one_hot.zero_().to(device)\n",
    "    return one_hot.scatter_(1, max_idx, 1).to(device)"
   ]
  },
  {
   "cell_type": "markdown",
   "metadata": {},
   "source": [
    "## Generator"
   ]
  },
  {
   "cell_type": "code",
   "execution_count": 182,
   "metadata": {},
   "outputs": [],
   "source": [
    "class Generator (nn.Module):\n",
    "    def __init__(self, \n",
    "                 input_size: int, \n",
    "                 hidden_size: int, \n",
    "                 cat: Counter):\n",
    "        super(Generator, self).__init__()\n",
    "        self.cat = cat\n",
    "        self.cat_n = list(cat.values())\n",
    "        self.output_size = sum(self.cat.values())\n",
    "        \n",
    "        self.l1 = nn.Sequential( \n",
    "            nn.Linear(input_size, hidden_size),\n",
    "            nn.LeakyReLU(negative_slope=0.1),\n",
    "            #nn.BatchNorm1d(hidden_size, eps=1e-05, momentum=0.1, affine=True, track_running_stats=True)\n",
    "        )\n",
    "        self.l2 = nn.Sequential( \n",
    "            nn.Linear(hidden_size, hidden_size * 2),\n",
    "            nn.LeakyReLU(negative_slope = 0.1),\n",
    "            #nn.BatchNorm1d(hidden_size * 2, eps=1e-05, momentum=0.1, affine=True, track_running_stats=True)\n",
    "        )\n",
    "        self.out = nn.Sequential( \n",
    "            nn.Linear(hidden_size * 2, self.output_size))\n",
    "        \n",
    "    def forward(self,x):\n",
    "        x=self.l1(x)\n",
    "        x=self.l2(x)\n",
    "        x=self.out(x)\n",
    "        ### Softmax per class\n",
    "        x = (x.split(self.cat_n, dim=1))\n",
    "        out = torch.cat([softmax(v, dim =1) for v in x], dim=1)\n",
    "        return out\n"
   ]
  },
  {
   "cell_type": "code",
   "execution_count": 176,
   "metadata": {},
   "outputs": [],
   "source": [
    "G=Generator(input_size=INPUT_SIZE, hidden_size = 4, cat=cat)\n",
    "G.to(device)\n",
    "optimal = torch.optim.RMSprop(G.parameters(),\n",
    "                                                  lr = 0.1,\n",
    "                                                  centered=False)\n",
    "loss = nn.BCELoss()\n",
    "z = gen_noise(INPUT_SIZE, 64).to(device)"
   ]
  },
  {
   "cell_type": "code",
   "execution_count": 181,
   "metadata": {},
   "outputs": [
    {
     "name": "stdout",
     "output_type": "stream",
     "text": [
      "tensor(34.9222, device='cuda:0', grad_fn=<BinaryCrossEntropyBackward>) tensor(0., device='cuda:0', grad_fn=<SumBackward0>)\n",
      "tensor(28.0225, device='cuda:0', grad_fn=<BinaryCrossEntropyBackward>) tensor(0., device='cuda:0', grad_fn=<SumBackward0>)\n",
      "tensor(27.3937, device='cuda:0', grad_fn=<BinaryCrossEntropyBackward>) tensor(0., device='cuda:0', grad_fn=<SumBackward0>)\n",
      "tensor(24.2529, device='cuda:0', grad_fn=<BinaryCrossEntropyBackward>) tensor(0., device='cuda:0', grad_fn=<SumBackward0>)\n",
      "tensor(20.7490, device='cuda:0', grad_fn=<BinaryCrossEntropyBackward>) tensor(0., device='cuda:0', grad_fn=<SumBackward0>)\n"
     ]
    }
   ],
   "source": [
    "for _ in range(5):\n",
    "    x_fake = G.forward(z)\n",
    "    o_loss = loss(torch.mean(x_fake, dim=0), torch.ones(400, 1).to(device) )\n",
    "    a = list(G.parameters())[1]\n",
    "    x_fake = x_fake.split(cat_n, dim=1)\n",
    "    x_fake = torch.cat([softmax2onehot(v) for v in x_fake], dim=1)\n",
    "    x_fake = x_fake.to(device)\n",
    "\n",
    "    o_loss.backward()\n",
    "    optimal.step()\n",
    "    G.zero_grad()\n",
    "    b = list(G.parameters())[1]\n",
    "    print(o_loss, torch.sum(a-b))\n"
   ]
  },
  {
   "cell_type": "markdown",
   "metadata": {},
   "source": [
    "## Discriminator\n"
   ]
  },
  {
   "cell_type": "code",
   "execution_count": 46,
   "metadata": {},
   "outputs": [],
   "source": [
    "class Discriminator(nn.Module):\n",
    "    def __init__(self, input_size:int, output_size=1, vanila=False):\n",
    "        '''\n",
    "        input_size: size of the data\n",
    "        output_size: is always 1 \n",
    "        vanila: if True, Sigmoid is going to applied on the last layer\n",
    "        '''\n",
    "        super(Discriminator,self).__init__()\n",
    "        \n",
    "        self.l1 = nn.Sequential( \n",
    "            nn.Linear(input_size, 1024),\n",
    "            nn.LeakyReLU(0.2),\n",
    "            nn.Dropout(0.3)\n",
    "        )\n",
    "        self.l2 = nn.Sequential(\n",
    "            nn.Linear(1024, 512),\n",
    "            nn.LeakyReLU(0.2),\n",
    "            nn.Dropout(0.3)\n",
    "        )\n",
    "        self.l3 = nn.Sequential(\n",
    "            nn.Linear(512, 256),\n",
    "            nn.LeakyReLU(0.2),\n",
    "            nn.Dropout(0.3)\n",
    "        )\n",
    "        if vanila:\n",
    "            self.out = nn.Sequential(\n",
    "                torch.nn.Linear(256, output_size),\n",
    "                torch.nn.Sigmoid()\n",
    "                )\n",
    "        else:\n",
    "            self.out = nn.Sequential(\n",
    "                torch.nn.Linear(256, output_size))\n",
    "        \n",
    "    def forward(self, x):\n",
    "        x = self.l1(x)\n",
    "        x = self.l2(x)\n",
    "        x = self.l3(x)\n",
    "        x = self.out(x)\n",
    "        return x\n",
    "    \n",
    "    def clip(self, thr):\n",
    "        for p in self.parameters():\n",
    "            p.data.clamp_(-thr, thr)\n",
    "\n"
   ]
  },
  {
   "cell_type": "code",
   "execution_count": 63,
   "metadata": {},
   "outputs": [
    {
     "name": "stdout",
     "output_type": "stream",
     "text": [
      "tensor(0.0626, device='cuda:0', grad_fn=<MeanBackward0>) None\n"
     ]
    }
   ],
   "source": [
    "D = Discriminator(500).to(device)\n",
    "optimal = torch.optim.RMSprop(D.parameters(),\n",
    "                                                  lr = 0.01,\n",
    "                                                  centered=True)\n",
    "z = Variable(gen_noise(INPUT_SIZE, 2).to(device))\n",
    "out = D.forward(z)\n",
    "loss = torch.mean(out)\n",
    "loss.backward()\n",
    "print(loss, z.grad)\n",
    "optimal.step()"
   ]
  },
  {
   "cell_type": "code",
   "execution_count": 223,
   "metadata": {},
   "outputs": [],
   "source": [
    "class GAN():\n",
    "    def __init__(self, \n",
    "                 data, \n",
    "                 cat, \n",
    "                 epochs = 2500,\n",
    "                 batch_size=64,           \n",
    "                 gen_learn_rate=1E-5,   \n",
    "                 disc_learn_rate=1E-8,\n",
    "                 vanila=False): \n",
    "        #Data\n",
    "        self.cat = cat\n",
    "        self.cat_n = list(cat.values())\n",
    "        self.onehot_size = sum(self.cat.values())\n",
    "        self.train_val_split(data, batch_size)\n",
    "        \n",
    "        #Networks\n",
    "        self.G = Generator(input_size=INPUT_SIZE, hidden_size=1024, cat=self.cat).to(device)\n",
    "        self.D = Discriminator(input_size=self.onehot_size, vanila=vanila).to(device)\n",
    "        self.D.clip(0.01)\n",
    "        \n",
    "        #Parameters\n",
    "        self.epochs = epochs\n",
    "        self.batch_size = batch_size\n",
    "        self.gen_learn_rate = gen_learn_rate\n",
    "        self.disc_learn_rate = disc_learn_rate\n",
    "\n",
    "        ''''\n",
    "        ADAM optimizer does not give good results \n",
    "        \n",
    "        self.generator_optim = torch.optim.Adam(self.G.parameters(),\n",
    "                                                gen_learn_rate, \n",
    "                                                eps = 10E-8, \n",
    "                                                betas=(0.5, 0.999)) #0.6\n",
    "        self.discriminator_optim = torch.optim.Adam(self.D.parameters(), disc_learn_rate, betas=(0.4, 0.999))\n",
    "        '''\n",
    "        self.generator_optim = torch.optim.RMSprop(self.G.parameters(),\n",
    "                                                  lr = self.gen_learn_rate,\n",
    "                                                  centered=True)\n",
    "        self.discriminator_optim = torch.optim.RMSprop(self.D.parameters(),\n",
    "                                                      lr = self.disc_learn_rate,\n",
    "                                                      centered=True)\n",
    "        \n",
    "    def train_val_split(self, data, batch_size):\n",
    "        train, val = train_test_split(data, test_size=0.2)\n",
    "        self.train = DataLoader(torch.tensor(train.values), \n",
    "                                                batch_size=batch_size, shuffle=True, num_workers=4)\n",
    "        self.val  = DataLoader(torch.tensor(val.values), \n",
    "                                                batch_size=batch_size, shuffle=True, num_workers=4)\n",
    "    def sample(self, n_samples: int):\n",
    "        '''\n",
    "        Generate the data data with Generator network\n",
    "        n_samples: usually equals to the batch size\n",
    "        '''\n",
    "        z = gen_noise(INPUT_SIZE, n_samples)\n",
    "        z = Variable(z, requires_grad=False).to(device)\n",
    "        return self.G.forward(z)\n",
    "    \n",
    "    def discriminator_train_step(self, x):\n",
    "        '''\n",
    "        x: set of real data \n",
    "        '''\n",
    "        batch_size = x.shape[0]\n",
    "        x_fake = self.sample(batch_size)\n",
    "    \n",
    "    def reset_gradient(self):\n",
    "        self.D.zero_grad()\n",
    "        self.G.zero_grad()\n",
    "        \n",
    "        \n",
    "    def fit(self, n_critic=1, n_gen=3):\n",
    "        self.discriminator_loss, self.generator_loss = [], []\n",
    "        for epoch in range(self.epochs):\n",
    "            batch_d_loss, batch_g_loss = [], []\n",
    "            for x in self.val:\n",
    "                ## Reset gradient for both networks (on new epoch)\n",
    "                self.reset_gradient()\n",
    "                ## Determine the batch size\n",
    "                batch_size = x.shape[0]\n",
    "                # True data is given label 1, while fake data is given label 0\n",
    "                #true_label = torch.ones(batch_size, 1).to(device)\n",
    "                #fake_label = torch.zeros(batch_size, 1).to(device)\n",
    "                #Step 1. TRAIN THE GENERATOR FOR THE FIRST TIME\n",
    "                if (n_gen-1)>0:\n",
    "                    for _ in range(n_gen-1):\n",
    "                        x_fake = self.sample(batch_size).to(device)\n",
    "                        x_fake = x_fake.split(self.cat_n, dim=1)\n",
    "                        x_fake = torch.cat([softmax2onehot(v) for v in x_fake], dim=1)\n",
    "                        x_fake = x_fake.to(device)\n",
    "                \n",
    "                        output = self.D.forward(x_fake)\n",
    "        \n",
    "                        G_loss = -torch.mean(output)\n",
    "                        G_loss.backward()\n",
    "                        self.generator_optim.step()\n",
    "                        self.reset_gradient()\n",
    "                        batch_g_loss.append(G_loss.item())\n",
    "                \n",
    "\n",
    "                for _ in range(n_critic):\n",
    "                    # Step 1. Send real data through discriminator\n",
    "                    #         and backpropagate its errors.\n",
    "                    x_true = Variable(x).float().to(device)\n",
    "                    output_true = self.D.forward(x_true)\n",
    "        \n",
    "\n",
    "                    # Step 2. Generate fake data G(z), where z ~ N(0, 1)\n",
    "                    #         is a latent code.\n",
    "                    x_fake = self.sample(batch_size)\n",
    "                    x_fake = x_fake.split(self.cat_n, dim=1)\n",
    "                    x_fake = torch.cat([softmax2onehot(v) for v in x_fake], dim=1)\n",
    "                    x_fake = x_fake.to(device)\n",
    "                    # Step 3. Send fake data through discriminator\n",
    "                    #         propagate error and update D weights.\n",
    "                    # --------------------------------------------\n",
    "                    # Note: detach() is used to avoid compounding generator gradients\n",
    "                    output_fake = self.D.forward(x_fake.detach()) \n",
    "        \n",
    "                    D_loss = -(torch.mean(output_true) - torch.mean(output_fake))\n",
    "                    D_loss.backward()\n",
    "                    self.discriminator_optim.step()\n",
    "                    \n",
    "                    # Weight clipping\n",
    "                    self.D.clip(0.01)\n",
    "                    self.reset_gradient()\n",
    "                    batch_d_loss.append(D_loss.item())\n",
    "                \n",
    "                # Step 4. Send fake data through discriminator _again_\n",
    "                #         propagate the error of the generator and\n",
    "                #         update G weights.\n",
    "                x_fake = self.sample(batch_size)\n",
    "                x_fake = x_fake.split(self.cat_n, dim=1)\n",
    "                x_fake = torch.cat([softmax2onehot(v) for v in x_fake], dim=1)\n",
    "                x_fake = x_fake.to(device)\n",
    "                \n",
    "                output = self.D.forward(x_fake)\n",
    "        \n",
    "                G_loss = -torch.mean(output)\n",
    "                G_loss.backward()\n",
    "                self.generator_optim.step()\n",
    "        \n",
    "                \n",
    "                batch_g_loss.append(G_loss.item())\n",
    "            \n",
    "            self.discriminator_loss.append(np.mean(batch_d_loss))\n",
    "            self.generator_loss.append(np.mean(batch_g_loss))\n",
    "            \n",
    "            \n",
    "            clear_output()\n",
    "            print(\"Epoch: %3d || D Loss: %5.5f (rc:%3.3f fc:%3.3f) || G Loss: %5.5f \" %(epoch, np.mean(batch_d_loss), \n",
    "                                                                                        torch.mean(output_true),\n",
    "                                                                                        torch.mean(output_fake),\n",
    "                                                                                    np.mean(batch_g_loss)))\n",
    "\n",
    "            # -- Plotting --\n",
    "            f, axarr = plt.subplots(1, 2, figsize=(18, 7))\n",
    "\n",
    "            # Loss\n",
    "            axarr[0].set_xlabel('Epoch')\n",
    "            axarr[0].set_ylabel('Loss')\n",
    "            axarr[0].set_title('Discriminator Loss || lr= %s' %self.disc_learn_rate )\n",
    "            axarr[1].set_xlabel('Epoch')\n",
    "            axarr[1].set_ylabel('Loss')\n",
    "            axarr[1].set_title('Generator Loss  || lr= %s' %self.gen_learn_rate )\n",
    "\n",
    "            axarr[0].plot(np.arange(epoch+1), self.discriminator_loss)\n",
    "            axarr[1].plot(np.arange(epoch+1), self.generator_loss, linestyle=\"--\")\n",
    "            plt.show()\n",
    "    def print_out(self):\n",
    "        pass\n",
    "    def synthesise(self, num=2):\n",
    "        data_dummy = pd.DataFrame(columns=data.columns, dtype=np.int32)\n",
    "        x_fake = self.sample(num)\n",
    "        x_fake = x_fake.split(self.cat_n, dim=1)\n",
    "        x_fake = torch.cat([softmax2onehot(v) for v in x_fake], dim=1)\n",
    "        x_fake = np.array(x_fake.cpu())[0].astype(int)\n",
    "        data_dummy.loc[-1] =np.array(x_fake)[0].astype(int)\n",
    "        return back_from_dummies(data_dummy)\n",
    "            "
   ]
  },
  {
   "cell_type": "code",
   "execution_count": 224,
   "metadata": {},
   "outputs": [],
   "source": [
    "gan = GAN(data = data, cat = cat)"
   ]
  },
  {
   "cell_type": "code",
   "execution_count": 225,
   "metadata": {},
   "outputs": [],
   "source": [
    "#gan.show_gen(2)"
   ]
  },
  {
   "cell_type": "code",
   "execution_count": null,
   "metadata": {},
   "outputs": [
    {
     "name": "stdout",
     "output_type": "stream",
     "text": [
      "Epoch:  43 || D Loss: -0.00130 (rc:-0.007 fc:-0.009) || G Loss: 0.00878 \n"
     ]
    },
    {
     "data": {
      "image/png": "[encoded data removed]",
      "text/plain": [
       "<Figure size 1296x504 with 2 Axes>"
      ]
     },
     "metadata": {
      "needs_background": "light"
     },
     "output_type": "display_data"
    }
   ],
   "source": [
    "gan.fit(n_critic=1, n_gen=3) ##add num of critics"
   ]
  },
  {
   "cell_type": "code",
   "execution_count": null,
   "metadata": {},
   "outputs": [],
   "source": []
  }
 ],
 "metadata": {
  "kernelspec": {
   "display_name": "Python 3",
   "language": "python",
   "name": "python3"
  },
  "language_info": {
   "codemirror_mode": {
    "name": "ipython",
    "version": 3
   },
   "file_extension": ".py",
   "mimetype": "text/x-python",
   "name": "python",
   "nbconvert_exporter": "python",
   "pygments_lexer": "ipython3",
   "version": "3.7.4"
  }
 },
 "nbformat": 4,
 "nbformat_minor": 4
}
