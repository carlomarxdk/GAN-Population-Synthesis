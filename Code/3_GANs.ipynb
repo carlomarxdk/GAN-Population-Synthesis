{
 "cells": [
  {
   "cell_type": "code",
   "execution_count": 532,
   "metadata": {},
   "outputs": [],
   "source": [
    "import torch\n",
    "import argparse\n",
    "import math\n",
    "import torch.nn as nn \n",
    "from torch.nn.functional import leaky_relu, softmax\n",
    "from sklearn.model_selection import train_test_split\n",
    "from torch.utils.data import DataLoader\n",
    "from collections import Counter\n",
    "\n",
    "from GANutils import *\n",
    "from utils import *\n",
    "import pandas as pd\n",
    "import numpy as np\n",
    "import matplotlib.pyplot as plt\n",
    "\n",
    "torch.set_num_threads(2)\n",
    "torch.set_num_interop_threads(2)"
   ]
  },
  {
   "cell_type": "code",
   "execution_count": 205,
   "metadata": {},
   "outputs": [],
   "source": [
    "data = pd.read_pickle('TU_onehot')"
   ]
  },
  {
   "cell_type": "code",
   "execution_count": 478,
   "metadata": {},
   "outputs": [],
   "source": [
    "cat = Counter([v.split('_')[0] for v in list(data.columns)])\n",
    "cat_total = sum(cat.values())\n",
    "cat_n = list(cat.values())\n",
    "INPUT_SIZE = 100"
   ]
  },
  {
   "cell_type": "code",
   "execution_count": 492,
   "metadata": {},
   "outputs": [],
   "source": [
    "def gen_noise(size:int, batch_size:int):\n",
    "    '''\n",
    "    Generates a 1-d vector of gaussian sampled random values\n",
    "    '''\n",
    "    n = Variable(torch.randn([batch_size,size]))\n",
    "    return n\n",
    "\n",
    "\n",
    "\n",
    "def softmax2onehot(x):\n",
    "    max_idx = torch.argmax(x, 1, keepdim=True)\n",
    "    one_hot = torch.FloatTensor(x.shape)\n",
    "    one_hot.zero_()\n",
    "    return one_hot.scatter_(1, max_idx, 1)"
   ]
  },
  {
   "cell_type": "code",
   "execution_count": 517,
   "metadata": {},
   "outputs": [],
   "source": [
    "class Generator (nn.Module):\n",
    "    def __init__(self, \n",
    "                 input_size: int, \n",
    "                 hidden_size: int, \n",
    "                 cat: Counter):\n",
    "        super(Generator, self).__init__()\n",
    "        self.cat = cat\n",
    "        self.cat_n = list(cat.values())\n",
    "        self.output_size = sum(self.cat.values())\n",
    "        self.l1 = nn.Linear(input_size, hidden_size)\n",
    "        self.l2 = nn.Linear(hidden_size, hidden_size*2)\n",
    "        self.l3 = nn.Linear(hidden_size*2, hidden_size)\n",
    "        self.l4 = nn.Linear(hidden_size, self.output_size)\n",
    "        \n",
    "    def forward(self,x):\n",
    "        x=self.l1(x)\n",
    "        x=leaky_relu(x, negative_slope = 0.2, inplace = True)\n",
    "        x=self.l2(x)\n",
    "        x=leaky_relu(x, negative_slope = 0.2, inplace = True)\n",
    "        x=self.l3(x)\n",
    "        x=leaky_relu(x, negative_slope = 0.2, inplace = True)\n",
    "        x=self.l4(x)\n",
    "        ### Sigmoid per class\n",
    "        x = x.split(self.cat_n, dim=1)\n",
    "        out = torch.cat([softmax(v, dim =1) for v in x], dim=1)\n",
    "        return out\n",
    "G = Generator(input_size=INPUT_SIZE, hidden_size=1024, cat=cat)"
   ]
  },
  {
   "cell_type": "code",
   "execution_count": 258,
   "metadata": {},
   "outputs": [],
   "source": [
    "class Discriminator(nn.Module):\n",
    "    def __init__(self, input_size:int, output_size=1):\n",
    "        super(Discriminator,self).__init__()\n",
    "        \n",
    "        self.l1 = nn.Sequential( \n",
    "            nn.Linear(input_size, 1024),\n",
    "            nn.LeakyReLU(0.2),\n",
    "            nn.Dropout(0.3)\n",
    "        )\n",
    "        self.l2 = nn.Sequential(\n",
    "            nn.Linear(1024, 512),\n",
    "            nn.LeakyReLU(0.2),\n",
    "            nn.Dropout(0.3)\n",
    "        )\n",
    "        self.l3 = nn.Sequential(\n",
    "            nn.Linear(512, 256),\n",
    "            nn.LeakyReLU(0.2),\n",
    "            nn.Dropout(0.3)\n",
    "        )\n",
    "        self.out = nn.Sequential(\n",
    "            torch.nn.Linear(256, output_size),\n",
    "            torch.nn.Sigmoid()\n",
    "        )\n",
    "        \n",
    "    def forward(self, x):\n",
    "        x = self.l1(x)\n",
    "        x = self.l2(x)\n",
    "        x = self.l3(x)\n",
    "        x = self.out(x)\n",
    "        return x"
   ]
  },
  {
   "cell_type": "markdown",
   "metadata": {},
   "source": [
    "## Generator"
   ]
  },
  {
   "cell_type": "code",
   "execution_count": 543,
   "metadata": {},
   "outputs": [],
   "source": [
    "class GAN():\n",
    "    def __init__(self, \n",
    "                 data, \n",
    "                 cat, \n",
    "                 epochs = 5,\n",
    "                 batch_size=64, \n",
    "                 gen_learn_rate=0.01, \n",
    "                 disc_learn_rate=0.005):\n",
    "        #Data\n",
    "        self.cat = cat\n",
    "        self.cat_n = list(cat.values())\n",
    "        self.onehot_size = sum(self.cat.values())\n",
    "        self.train_val_split(data, batch_size)\n",
    "        \n",
    "        #Networks\n",
    "        self.G = Generator(input_size=INPUT_SIZE, hidden_size=1024, cat=self.cat)\n",
    "        self.D = Discriminator(input_size=self.onehot_size)\n",
    "        \n",
    "        #Parameters\n",
    "        self.epochs = epochs\n",
    "        self.batch_size = batch_size\n",
    "        self.gen_learn_rate = gen_learn_rate\n",
    "        self.disc_learn_rate = disc_learn_rate\n",
    "        \n",
    "        #Optimizer\n",
    "        self.loss = nn.BCELoss()\n",
    "\n",
    "        self.generator_optim = torch.optim.Adam(G.parameters(), gen_learn_rate, betas=(0.5, 0.999))\n",
    "        self.discriminator_optim = torch.optim.Adam(D.parameters(), disc_learn_rate, betas=(0.5, 0.999))\n",
    "        \n",
    "    def train_val_split(self, data, batch_size):\n",
    "        train, val = train_test_split(data, test_size=0.1)\n",
    "        self.train = DataLoader(torch.tensor(train.values), \n",
    "                                                batch_size=batch_size, shuffle=True, num_workers=2)\n",
    "        self.val  = DataLoader(torch.tensor(val.values), \n",
    "                                                batch_size=batch_size, shuffle=True, num_workers=2)\n",
    "        \n",
    "    def fit(self):\n",
    "        discriminator_loss, generator_loss = [], []\n",
    "        for epoch in range(self.epochs):\n",
    "            batch_d_loss, batch_g_loss = [], []\n",
    "            for x in self.val:\n",
    "                batch_size = x.shape[0]\n",
    "                # True data is given label 1, while fake data is given label 0\n",
    "                true_label = torch.ones(batch_size, 1)\n",
    "                fake_label = torch.zeros(batch_size, 1)\n",
    "        \n",
    "                self.D.zero_grad()\n",
    "                self.G.zero_grad()\n",
    "        \n",
    "                # Step 1. Send real data through discriminator\n",
    "                #         and backpropagate its errors.\n",
    "                x_true = Variable(x).float()       \n",
    "                output = self.D.forward(x_true)\n",
    "        \n",
    "                error_true = self.loss(output, true_label)\n",
    "                error_true.backward()\n",
    "        \n",
    "                # Step 2. Generate fake data G(z), where z ~ N(0, 1)\n",
    "                #         is a latent code.\n",
    "                z = gen_noise(INPUT_SIZE, batch_size)\n",
    "                z = Variable(z, requires_grad=False)\n",
    "        \n",
    "                x_fake = self.G.forward(z)\n",
    "                x_fake = x_fake.split(self.cat_n, dim=1)\n",
    "                x_fake = torch.cat([softmax2onehot(v) for v in x_fake], dim=1)\n",
    "                # Step 3. Send fake data through discriminator\n",
    "                #         propagate error and update D weights.\n",
    "                # --------------------------------------------\n",
    "                # Note: detach() is used to avoid compounding generator gradients\n",
    "                output = self.D.forward(x_fake.detach()) \n",
    "        \n",
    "                error_fake = self.loss(output, fake_label)\n",
    "                error_fake.backward()\n",
    "                self.discriminator_optim.step()\n",
    "                \n",
    "                # Step 4. Send fake data through discriminator _again_\n",
    "                #         propagate the error of the generator and\n",
    "                #         update G weights.\n",
    "                output = self.D.forward(x_fake)\n",
    "        \n",
    "                error_generator = self.loss(output, true_label)\n",
    "                error_generator.backward()\n",
    "                self.generator_optim.step()\n",
    "        \n",
    "                batch_d_loss.append((error_true/(error_true + error_fake)).item())\n",
    "                batch_g_loss.append(error_generator.item())\n",
    "            print('Epoch:', epoch, \"|| D Loss:\", np.mean(batch_d_loss), \"|| G Loss:\", np.mean(batch_g_loss))\n",
    "            \n",
    "\n",
    "            discriminator_loss.append(np.mean(batch_d_loss))\n",
    "            generator_loss.append(np.mean(batch_g_loss))\n",
    "        # -- Plotting --\n",
    "        f, axarr = plt.subplots(1, 2, figsize=(18, 7))\n",
    "\n",
    "        # Loss\n",
    "        axarr[0].set_xlabel('Epoch')\n",
    "        axarr[0].set_ylabel('Loss')\n",
    "        axarr[1].set_xlabel('Epoch')\n",
    "        axarr[1].set_ylabel('Loss')\n",
    "\n",
    "        axarr[0].plot(np.arange(epoch+1), discriminator_loss)\n",
    "        axarr[1].plot(np.arange(epoch+1), generator_loss, linestyle=\"--\")\n",
    "        "
   ]
  },
  {
   "cell_type": "code",
   "execution_count": 544,
   "metadata": {},
   "outputs": [],
   "source": [
    "gan = GAN(data, cat)"
   ]
  },
  {
   "cell_type": "code",
   "execution_count": 545,
   "metadata": {},
   "outputs": [
    {
     "name": "stdout",
     "output_type": "stream",
     "text": [
      "Epoch: 0 || D Loss: 0.5050781751407012 || G Loss: 0.6997695098851473\n",
      "Epoch: 1 || D Loss: 0.5050607735419091 || G Loss: 0.6999466917442001\n",
      "Epoch: 2 || D Loss: 0.5051484328644876 || G Loss: 0.6999426272534232\n",
      "Epoch: 3 || D Loss: 0.5050163885564295 || G Loss: 0.6999757128362437\n",
      "Epoch: 4 || D Loss: 0.5050362678429553 || G Loss: 0.6999335539249973\n"
     ]
    },
    {
     "data": {
      "image/png": "[encoded data removed]",
      "text/plain": [
       "<Figure size 1296x504 with 2 Axes>"
      ]
     },
     "metadata": {
      "needs_background": "light"
     },
     "output_type": "display_data"
    }
   ],
   "source": [
    "gan.fit()"
   ]
  },
  {
   "cell_type": "code",
   "execution_count": null,
   "metadata": {},
   "outputs": [],
   "source": []
  }
 ],
 "metadata": {
  "kernelspec": {
   "display_name": "Python 3",
   "language": "python",
   "name": "python3"
  },
  "language_info": {
   "codemirror_mode": {
    "name": "ipython",
    "version": 3
   },
   "file_extension": ".py",
   "mimetype": "text/x-python",
   "name": "python",
   "nbconvert_exporter": "python",
   "pygments_lexer": "ipython3",
   "version": "3.6.8"
  }
 },
 "nbformat": 4,
 "nbformat_minor": 2
}
